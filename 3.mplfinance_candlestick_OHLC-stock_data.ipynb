{
 "cells": [
  {
   "cell_type": "code",
   "execution_count": 19,
   "metadata": {},
   "outputs": [],
   "source": [
    "import pandas as pd\n",
    "#import matplotlib.pyplot as plt\n",
    "#from matplotlib import style\n",
    "import mplfinance\n",
    "#from mplfinance import candlestick_ohlc\n",
    "#import matplotlib.dates as mdates\n",
    "#style.use('ggplot')"
   ]
  },
  {
   "cell_type": "code",
   "execution_count": 20,
   "metadata": {},
   "outputs": [
    {
     "data": {
      "text/html": [
       "<div>\n",
       "<style scoped>\n",
       "    .dataframe tbody tr th:only-of-type {\n",
       "        vertical-align: middle;\n",
       "    }\n",
       "\n",
       "    .dataframe tbody tr th {\n",
       "        vertical-align: top;\n",
       "    }\n",
       "\n",
       "    .dataframe thead th {\n",
       "        text-align: right;\n",
       "    }\n",
       "</style>\n",
       "<table border=\"1\" class=\"dataframe\">\n",
       "  <thead>\n",
       "    <tr style=\"text-align: right;\">\n",
       "      <th></th>\n",
       "      <th>High</th>\n",
       "      <th>Low</th>\n",
       "      <th>Open</th>\n",
       "      <th>Close</th>\n",
       "      <th>Volume</th>\n",
       "      <th>Adj Close</th>\n",
       "      <th>Close5</th>\n",
       "      <th>20ma</th>\n",
       "    </tr>\n",
       "    <tr>\n",
       "      <th>Date</th>\n",
       "      <th></th>\n",
       "      <th></th>\n",
       "      <th></th>\n",
       "      <th></th>\n",
       "      <th></th>\n",
       "      <th></th>\n",
       "      <th></th>\n",
       "      <th></th>\n",
       "    </tr>\n",
       "  </thead>\n",
       "  <tbody>\n",
       "    <tr>\n",
       "      <th>1999-12-31</th>\n",
       "      <td>3.674107</td>\n",
       "      <td>3.553571</td>\n",
       "      <td>3.604911</td>\n",
       "      <td>3.671875</td>\n",
       "      <td>40952800</td>\n",
       "      <td>3.187337</td>\n",
       "      <td>3.553571</td>\n",
       "      <td>3.187337</td>\n",
       "    </tr>\n",
       "    <tr>\n",
       "      <th>2000-01-03</th>\n",
       "      <td>4.017857</td>\n",
       "      <td>3.631696</td>\n",
       "      <td>3.745536</td>\n",
       "      <td>3.997768</td>\n",
       "      <td>133949200</td>\n",
       "      <td>3.470226</td>\n",
       "      <td>3.491071</td>\n",
       "      <td>3.328781</td>\n",
       "    </tr>\n",
       "    <tr>\n",
       "      <th>2000-01-04</th>\n",
       "      <td>3.950893</td>\n",
       "      <td>3.613839</td>\n",
       "      <td>3.866071</td>\n",
       "      <td>3.660714</td>\n",
       "      <td>128094400</td>\n",
       "      <td>3.177650</td>\n",
       "      <td>3.312500</td>\n",
       "      <td>3.278404</td>\n",
       "    </tr>\n",
       "    <tr>\n",
       "      <th>2000-01-05</th>\n",
       "      <td>3.948661</td>\n",
       "      <td>3.678571</td>\n",
       "      <td>3.705357</td>\n",
       "      <td>3.714286</td>\n",
       "      <td>194580400</td>\n",
       "      <td>3.224152</td>\n",
       "      <td>3.113839</td>\n",
       "      <td>3.264841</td>\n",
       "    </tr>\n",
       "    <tr>\n",
       "      <th>2000-01-06</th>\n",
       "      <td>3.821429</td>\n",
       "      <td>3.392857</td>\n",
       "      <td>3.790179</td>\n",
       "      <td>3.392857</td>\n",
       "      <td>191993200</td>\n",
       "      <td>2.945139</td>\n",
       "      <td>3.455357</td>\n",
       "      <td>3.200901</td>\n",
       "    </tr>\n",
       "  </tbody>\n",
       "</table>\n",
       "</div>"
      ],
      "text/plain": [
       "                High       Low      Open     Close     Volume  Adj Close  \\\n",
       "Date                                                                       \n",
       "1999-12-31  3.674107  3.553571  3.604911  3.671875   40952800   3.187337   \n",
       "2000-01-03  4.017857  3.631696  3.745536  3.997768  133949200   3.470226   \n",
       "2000-01-04  3.950893  3.613839  3.866071  3.660714  128094400   3.177650   \n",
       "2000-01-05  3.948661  3.678571  3.705357  3.714286  194580400   3.224152   \n",
       "2000-01-06  3.821429  3.392857  3.790179  3.392857  191993200   2.945139   \n",
       "\n",
       "              Close5      20ma  \n",
       "Date                            \n",
       "1999-12-31  3.553571  3.187337  \n",
       "2000-01-03  3.491071  3.328781  \n",
       "2000-01-04  3.312500  3.278404  \n",
       "2000-01-05  3.113839  3.264841  \n",
       "2000-01-06  3.455357  3.200901  "
      ]
     },
     "execution_count": 20,
     "metadata": {},
     "output_type": "execute_result"
    }
   ],
   "source": [
    "df = pd.read_excel('stock_data.xlsx', parse_dates = True, index_col = 'Date')\n",
    "df.head()"
   ]
  },
  {
   "cell_type": "code",
   "execution_count": 11,
   "metadata": {},
   "outputs": [
    {
     "name": "stdout",
     "output_type": "stream",
     "text": [
      "                open      high       low     close\n",
      "Date                                              \n",
      "1999-12-31  3.187337  3.470226  2.945139  3.084645\n",
      "2000-01-10  3.030393  3.303592  2.702940  3.303592\n",
      "2000-01-20  3.518665  3.518665  3.150523  3.150523\n",
      "2000-01-30  3.216401  3.561293  3.063332  3.561293\n",
      "2000-02-09  3.491539  3.689174  3.371409  3.448912\n"
     ]
    }
   ],
   "source": [
    "#df_ohlc = df['Adj Close'].resample('10D').ohlc()\n",
    "#df_volume = df['Volume'].resample('10D').sum()\n",
    "#print(df_ohlc.head())"
   ]
  },
  {
   "cell_type": "code",
   "execution_count": 7,
   "metadata": {},
   "outputs": [
    {
     "name": "stdout",
     "output_type": "stream",
     "text": [
      "       Date      open      high       low     close\n",
      "0  730119.0  3.187337  3.470226  2.945139  3.084645\n",
      "1  730129.0  3.030393  3.303592  2.702940  3.303592\n",
      "2  730139.0  3.518665  3.518665  3.150523  3.150523\n",
      "3  730149.0  3.216401  3.561293  3.063332  3.561293\n",
      "4  730159.0  3.491539  3.689174  3.371409  3.448912\n"
     ]
    }
   ],
   "source": [
    "#df_ohlc.reset_index(inplace=True)\n",
    "#df_ohlc['Date'] = df_ohlc['Date'].map(mdates.date2num)\n",
    "#print(df_ohlc.head())"
   ]
  },
  {
   "cell_type": "code",
   "execution_count": null,
   "metadata": {},
   "outputs": [],
   "source": [
    "#ax1 = plt.subplot2grid((6,1)), (0,0), rowspan=5, colspan=1)\n",
    "#ax1 = plt.subplot2grid((6,1)), (5,0), rowspan=5, colspan=1, sharex=ax1)\n",
    "#ax1.xaxis_date()\n",
    "\n",
    "#candlestick_ohlc(ax1, df_ohlc.values, width=2, colorup='g')\n",
    "#ax2.fill_between(df_volume.index.map(mdates.date2num), df_volume.values, 0))\n",
    "#plt.show()"
   ]
  },
  {
   "cell_type": "code",
   "execution_count": 21,
   "metadata": {},
   "outputs": [
    {
     "data": {
      "text/html": [
       "<div>\n",
       "<style scoped>\n",
       "    .dataframe tbody tr th:only-of-type {\n",
       "        vertical-align: middle;\n",
       "    }\n",
       "\n",
       "    .dataframe tbody tr th {\n",
       "        vertical-align: top;\n",
       "    }\n",
       "\n",
       "    .dataframe thead th {\n",
       "        text-align: right;\n",
       "    }\n",
       "</style>\n",
       "<table border=\"1\" class=\"dataframe\">\n",
       "  <thead>\n",
       "    <tr style=\"text-align: right;\">\n",
       "      <th></th>\n",
       "      <th>High</th>\n",
       "      <th>Low</th>\n",
       "      <th>Open</th>\n",
       "      <th>Close</th>\n",
       "      <th>Volume</th>\n",
       "      <th>Adj Close</th>\n",
       "      <th>Close5</th>\n",
       "      <th>20ma</th>\n",
       "    </tr>\n",
       "    <tr>\n",
       "      <th>Date</th>\n",
       "      <th></th>\n",
       "      <th></th>\n",
       "      <th></th>\n",
       "      <th></th>\n",
       "      <th></th>\n",
       "      <th></th>\n",
       "      <th></th>\n",
       "      <th></th>\n",
       "    </tr>\n",
       "  </thead>\n",
       "  <tbody>\n",
       "    <tr>\n",
       "      <th>2019-12-02</th>\n",
       "      <td>268.250000</td>\n",
       "      <td>263.450012</td>\n",
       "      <td>267.269989</td>\n",
       "      <td>264.160004</td>\n",
       "      <td>23621800</td>\n",
       "      <td>263.534546</td>\n",
       "      <td>266.920013</td>\n",
       "      <td>262.199700</td>\n",
       "    </tr>\n",
       "    <tr>\n",
       "      <th>2019-12-03</th>\n",
       "      <td>259.529999</td>\n",
       "      <td>256.290009</td>\n",
       "      <td>258.309998</td>\n",
       "      <td>259.450012</td>\n",
       "      <td>28607600</td>\n",
       "      <td>258.835724</td>\n",
       "      <td>268.480011</td>\n",
       "      <td>262.335418</td>\n",
       "    </tr>\n",
       "    <tr>\n",
       "      <th>2019-12-04</th>\n",
       "      <td>263.309998</td>\n",
       "      <td>260.679993</td>\n",
       "      <td>261.070007</td>\n",
       "      <td>261.739990</td>\n",
       "      <td>16795400</td>\n",
       "      <td>261.120270</td>\n",
       "      <td>270.769989</td>\n",
       "      <td>262.603763</td>\n",
       "    </tr>\n",
       "    <tr>\n",
       "      <th>2019-12-05</th>\n",
       "      <td>265.890015</td>\n",
       "      <td>262.730011</td>\n",
       "      <td>263.790009</td>\n",
       "      <td>265.579987</td>\n",
       "      <td>18606100</td>\n",
       "      <td>264.951172</td>\n",
       "      <td>271.459991</td>\n",
       "      <td>263.058183</td>\n",
       "    </tr>\n",
       "    <tr>\n",
       "      <th>2019-12-06</th>\n",
       "      <td>271.000000</td>\n",
       "      <td>267.299988</td>\n",
       "      <td>267.480011</td>\n",
       "      <td>270.709991</td>\n",
       "      <td>26518900</td>\n",
       "      <td>270.069031</td>\n",
       "      <td>275.149994</td>\n",
       "      <td>263.620848</td>\n",
       "    </tr>\n",
       "  </tbody>\n",
       "</table>\n",
       "</div>"
      ],
      "text/plain": [
       "                  High         Low        Open       Close    Volume  \\\n",
       "Date                                                                   \n",
       "2019-12-02  268.250000  263.450012  267.269989  264.160004  23621800   \n",
       "2019-12-03  259.529999  256.290009  258.309998  259.450012  28607600   \n",
       "2019-12-04  263.309998  260.679993  261.070007  261.739990  16795400   \n",
       "2019-12-05  265.890015  262.730011  263.790009  265.579987  18606100   \n",
       "2019-12-06  271.000000  267.299988  267.480011  270.709991  26518900   \n",
       "\n",
       "             Adj Close      Close5        20ma  \n",
       "Date                                            \n",
       "2019-12-02  263.534546  266.920013  262.199700  \n",
       "2019-12-03  258.835724  268.480011  262.335418  \n",
       "2019-12-04  261.120270  270.769989  262.603763  \n",
       "2019-12-05  264.951172  271.459991  263.058183  \n",
       "2019-12-06  270.069031  275.149994  263.620848  "
      ]
     },
     "execution_count": 21,
     "metadata": {},
     "output_type": "execute_result"
    }
   ],
   "source": [
    "df201912 = df.loc['20191201':'20191231']\n",
    "df201912.head()"
   ]
  },
  {
   "cell_type": "code",
   "execution_count": 24,
   "metadata": {},
   "outputs": [
    {
     "data": {
      "image/png": "[encoded data removed]",
      "text/plain": [
       "<Figure size 576x414 with 4 Axes>"
      ]
     },
     "metadata": {},
     "output_type": "display_data"
    }
   ],
   "source": [
    "mplfinance.plot(df201912, type='candle', mav=(3,5,8,20), volume=True)"
   ]
  },
  {
   "cell_type": "code",
   "execution_count": null,
   "metadata": {},
   "outputs": [],
   "source": []
  }
 ],
 "metadata": {
  "kernelspec": {
   "display_name": "Python 3",
   "language": "python",
   "name": "python3"
  },
  "language_info": {
   "codemirror_mode": {
    "name": "ipython",
    "version": 3
   },
   "file_extension": ".py",
   "mimetype": "text/x-python",
   "name": "python",
   "nbconvert_exporter": "python",
   "pygments_lexer": "ipython3",
   "version": "3.7.3"
  }
 },
 "nbformat": 4,
 "nbformat_minor": 2
}
