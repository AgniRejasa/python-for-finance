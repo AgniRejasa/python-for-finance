{
  "nbformat": 4,
  "nbformat_minor": 0,
  "metadata": {
    "colab": {
      "name": "Facebook Stock Prediction using SVR.ipynb",
      "provenance": [],
      "authorship_tag": "ABX9TyNDqwJyfoXGlZRXVFVSFECs",
      "include_colab_link": true
    },
    "kernelspec": {
      "name": "python3",
      "display_name": "Python 3"
    }
  },
  "cells": [
    {
      "cell_type": "markdown",
      "metadata": {
        "id": "view-in-github",
        "colab_type": "text"
      },
      "source": [
        "<a href=\"https://colab.research.google.com/github/AgniRejasa/python-for-finance/blob/master/Facebook_Stock_Prediction_using_SVR.ipynb\" target=\"_parent\"><img src=\"https://colab.research.google.com/assets/colab-badge.svg\" alt=\"Open In Colab\"/></a>"
      ]
    },
    {
      "cell_type": "code",
      "metadata": {
        "id": "JwXM6-Z-Gwax",
        "colab_type": "code",
        "colab": {}
      },
      "source": [
        "#Description: This program predicts the price of FB stock for a specific day"
      ],
      "execution_count": null,
      "outputs": []
    },
    {
      "cell_type": "code",
      "metadata": {
        "id": "Tff531KbHOnt",
        "colab_type": "code",
        "colab": {}
      },
      "source": [
        "#import the libraries\n",
        "from sklearn.svm import SVR\n",
        "import numpy as np\n",
        "import pandas as pd\n",
        "import matplotlib.pyplot as plt\n",
        "plt.style.use('fivethirtyeight')"
      ],
      "execution_count": 3,
      "outputs": []
    },
    {
      "cell_type": "code",
      "metadata": {
        "id": "YPziBy0VICEV",
        "colab_type": "code",
        "colab": {
          "resources": {
            "http://localhost:8080/nbextensions/google.colab/files.js": {
              "data": "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",
              "ok": true,
              "headers": [
                [
                  "content-type",
                  "application/javascript"
                ]
              ],
              "status": 200,
              "status_text": ""
            }
          },
          "base_uri": "https://localhost:8080/",
          "height": 72
        },
        "outputId": "ec353e38-35d6-441a-f0fd-cbb454ff1156"
      },
      "source": [
        "#Load the data\n",
        "from google.colab import files\n",
        "uploaded = files.upload()"
      ],
      "execution_count": 1,
      "outputs": [
        {
          "output_type": "display_data",
          "data": {
            "text/html": [
              "\n",
              "     <input type=\"file\" id=\"files-3ac6973f-8005-4148-8427-89a4768f2ec1\" name=\"files[]\" multiple disabled\n",
              "        style=\"border:none\" />\n",
              "     <output id=\"result-3ac6973f-8005-4148-8427-89a4768f2ec1\">\n",
              "      Upload widget is only available when the cell has been executed in the\n",
              "      current browser session. Please rerun this cell to enable.\n",
              "      </output>\n",
              "      <script src=\"/nbextensions/google.colab/files.js\"></script> "
            ],
            "text/plain": [
              "<IPython.core.display.HTML object>"
            ]
          },
          "metadata": {
            "tags": []
          }
        },
        {
          "output_type": "stream",
          "text": [
            "Saving FB_stock.csv to FB_stock.csv\n"
          ],
          "name": "stdout"
        }
      ]
    },
    {
      "cell_type": "code",
      "metadata": {
        "id": "kJcel6UUK81O",
        "colab_type": "code",
        "colab": {
          "base_uri": "https://localhost:8080/",
          "height": 731
        },
        "outputId": "31520121-3909-4113-97fb-759147a23c01"
      },
      "source": [
        "#Store and show the data\n",
        "df = pd.read_csv(\"FB_stock.csv\")\n",
        "#df['Date'] = pd.to_datetime(df['Date'], format=\"%Y-%m-%d\")\n",
        "df = df.iloc[1:]\n",
        "df"
      ],
      "execution_count": 60,
      "outputs": [
        {
          "output_type": "execute_result",
          "data": {
            "text/html": [
              "<div>\n",
              "<style scoped>\n",
              "    .dataframe tbody tr th:only-of-type {\n",
              "        vertical-align: middle;\n",
              "    }\n",
              "\n",
              "    .dataframe tbody tr th {\n",
              "        vertical-align: top;\n",
              "    }\n",
              "\n",
              "    .dataframe thead th {\n",
              "        text-align: right;\n",
              "    }\n",
              "</style>\n",
              "<table border=\"1\" class=\"dataframe\">\n",
              "  <thead>\n",
              "    <tr style=\"text-align: right;\">\n",
              "      <th></th>\n",
              "      <th>Date</th>\n",
              "      <th>High</th>\n",
              "      <th>Low</th>\n",
              "      <th>Open</th>\n",
              "      <th>Close</th>\n",
              "      <th>Volume</th>\n",
              "      <th>Adj Close</th>\n",
              "    </tr>\n",
              "  </thead>\n",
              "  <tbody>\n",
              "    <tr>\n",
              "      <th>1</th>\n",
              "      <td>2019-05-01</td>\n",
              "      <td>196.179993</td>\n",
              "      <td>193.009995</td>\n",
              "      <td>194.779999</td>\n",
              "      <td>193.029999</td>\n",
              "      <td>15996600</td>\n",
              "      <td>193.029999</td>\n",
              "    </tr>\n",
              "    <tr>\n",
              "      <th>2</th>\n",
              "      <td>2019-05-02</td>\n",
              "      <td>194.000000</td>\n",
              "      <td>189.750000</td>\n",
              "      <td>193.000000</td>\n",
              "      <td>192.529999</td>\n",
              "      <td>13209500</td>\n",
              "      <td>192.529999</td>\n",
              "    </tr>\n",
              "    <tr>\n",
              "      <th>3</th>\n",
              "      <td>2019-05-03</td>\n",
              "      <td>196.160004</td>\n",
              "      <td>193.710007</td>\n",
              "      <td>194.380005</td>\n",
              "      <td>195.470001</td>\n",
              "      <td>14575400</td>\n",
              "      <td>195.470001</td>\n",
              "    </tr>\n",
              "    <tr>\n",
              "      <th>4</th>\n",
              "      <td>2019-05-06</td>\n",
              "      <td>194.279999</td>\n",
              "      <td>190.550003</td>\n",
              "      <td>191.240005</td>\n",
              "      <td>193.880005</td>\n",
              "      <td>13994900</td>\n",
              "      <td>193.880005</td>\n",
              "    </tr>\n",
              "    <tr>\n",
              "      <th>5</th>\n",
              "      <td>2019-05-07</td>\n",
              "      <td>192.899994</td>\n",
              "      <td>187.850006</td>\n",
              "      <td>192.539993</td>\n",
              "      <td>189.770004</td>\n",
              "      <td>16253000</td>\n",
              "      <td>189.770004</td>\n",
              "    </tr>\n",
              "    <tr>\n",
              "      <th>6</th>\n",
              "      <td>2019-05-08</td>\n",
              "      <td>190.720001</td>\n",
              "      <td>188.550003</td>\n",
              "      <td>189.389999</td>\n",
              "      <td>189.539993</td>\n",
              "      <td>12505700</td>\n",
              "      <td>189.539993</td>\n",
              "    </tr>\n",
              "    <tr>\n",
              "      <th>7</th>\n",
              "      <td>2019-05-09</td>\n",
              "      <td>189.770004</td>\n",
              "      <td>186.259995</td>\n",
              "      <td>187.199997</td>\n",
              "      <td>188.649994</td>\n",
              "      <td>12967000</td>\n",
              "      <td>188.649994</td>\n",
              "    </tr>\n",
              "    <tr>\n",
              "      <th>8</th>\n",
              "      <td>2019-05-10</td>\n",
              "      <td>190.000000</td>\n",
              "      <td>184.589996</td>\n",
              "      <td>188.250000</td>\n",
              "      <td>188.339996</td>\n",
              "      <td>12578500</td>\n",
              "      <td>188.339996</td>\n",
              "    </tr>\n",
              "    <tr>\n",
              "      <th>9</th>\n",
              "      <td>2019-05-13</td>\n",
              "      <td>185.429993</td>\n",
              "      <td>180.839996</td>\n",
              "      <td>183.500000</td>\n",
              "      <td>181.539993</td>\n",
              "      <td>16833300</td>\n",
              "      <td>181.539993</td>\n",
              "    </tr>\n",
              "    <tr>\n",
              "      <th>10</th>\n",
              "      <td>2019-05-14</td>\n",
              "      <td>183.490005</td>\n",
              "      <td>178.100006</td>\n",
              "      <td>182.520004</td>\n",
              "      <td>180.729996</td>\n",
              "      <td>17628100</td>\n",
              "      <td>180.729996</td>\n",
              "    </tr>\n",
              "    <tr>\n",
              "      <th>11</th>\n",
              "      <td>2019-05-15</td>\n",
              "      <td>187.279999</td>\n",
              "      <td>180.020004</td>\n",
              "      <td>180.419998</td>\n",
              "      <td>186.270004</td>\n",
              "      <td>16746900</td>\n",
              "      <td>186.270004</td>\n",
              "    </tr>\n",
              "    <tr>\n",
              "      <th>12</th>\n",
              "      <td>2019-05-16</td>\n",
              "      <td>188.580002</td>\n",
              "      <td>185.050003</td>\n",
              "      <td>185.050003</td>\n",
              "      <td>186.990005</td>\n",
              "      <td>12953100</td>\n",
              "      <td>186.990005</td>\n",
              "    </tr>\n",
              "    <tr>\n",
              "      <th>13</th>\n",
              "      <td>2019-05-17</td>\n",
              "      <td>187.580002</td>\n",
              "      <td>184.279999</td>\n",
              "      <td>184.839996</td>\n",
              "      <td>185.300003</td>\n",
              "      <td>10485400</td>\n",
              "      <td>185.300003</td>\n",
              "    </tr>\n",
              "    <tr>\n",
              "      <th>14</th>\n",
              "      <td>2019-05-20</td>\n",
              "      <td>184.229996</td>\n",
              "      <td>181.369995</td>\n",
              "      <td>181.880005</td>\n",
              "      <td>182.720001</td>\n",
              "      <td>10352000</td>\n",
              "      <td>182.720001</td>\n",
              "    </tr>\n",
              "    <tr>\n",
              "      <th>15</th>\n",
              "      <td>2019-05-21</td>\n",
              "      <td>185.699997</td>\n",
              "      <td>183.889999</td>\n",
              "      <td>184.570007</td>\n",
              "      <td>184.820007</td>\n",
              "      <td>7502800</td>\n",
              "      <td>184.820007</td>\n",
              "    </tr>\n",
              "    <tr>\n",
              "      <th>16</th>\n",
              "      <td>2019-05-22</td>\n",
              "      <td>186.740005</td>\n",
              "      <td>183.610001</td>\n",
              "      <td>184.729996</td>\n",
              "      <td>185.320007</td>\n",
              "      <td>9213800</td>\n",
              "      <td>185.320007</td>\n",
              "    </tr>\n",
              "    <tr>\n",
              "      <th>17</th>\n",
              "      <td>2019-05-23</td>\n",
              "      <td>183.899994</td>\n",
              "      <td>179.669998</td>\n",
              "      <td>182.419998</td>\n",
              "      <td>180.869995</td>\n",
              "      <td>12768800</td>\n",
              "      <td>180.869995</td>\n",
              "    </tr>\n",
              "    <tr>\n",
              "      <th>18</th>\n",
              "      <td>2019-05-24</td>\n",
              "      <td>183.630005</td>\n",
              "      <td>180.830002</td>\n",
              "      <td>182.330002</td>\n",
              "      <td>181.059998</td>\n",
              "      <td>8807700</td>\n",
              "      <td>181.059998</td>\n",
              "    </tr>\n",
              "    <tr>\n",
              "      <th>19</th>\n",
              "      <td>2019-05-28</td>\n",
              "      <td>184.710007</td>\n",
              "      <td>181.449997</td>\n",
              "      <td>181.539993</td>\n",
              "      <td>184.309998</td>\n",
              "      <td>14843300</td>\n",
              "      <td>184.309998</td>\n",
              "    </tr>\n",
              "    <tr>\n",
              "      <th>20</th>\n",
              "      <td>2019-05-29</td>\n",
              "      <td>184.559998</td>\n",
              "      <td>181.350006</td>\n",
              "      <td>183.500000</td>\n",
              "      <td>182.190002</td>\n",
              "      <td>12797700</td>\n",
              "      <td>182.190002</td>\n",
              "    </tr>\n",
              "    <tr>\n",
              "      <th>21</th>\n",
              "      <td>2019-05-30</td>\n",
              "      <td>183.479996</td>\n",
              "      <td>180.889999</td>\n",
              "      <td>183.080002</td>\n",
              "      <td>183.009995</td>\n",
              "      <td>8581500</td>\n",
              "      <td>183.009995</td>\n",
              "    </tr>\n",
              "    <tr>\n",
              "      <th>22</th>\n",
              "      <td>2019-05-31</td>\n",
              "      <td>180.539993</td>\n",
              "      <td>177.160004</td>\n",
              "      <td>180.279999</td>\n",
              "      <td>177.470001</td>\n",
              "      <td>15226500</td>\n",
              "      <td>177.470001</td>\n",
              "    </tr>\n",
              "  </tbody>\n",
              "</table>\n",
              "</div>"
            ],
            "text/plain": [
              "          Date        High         Low  ...       Close    Volume   Adj Close\n",
              "1   2019-05-01  196.179993  193.009995  ...  193.029999  15996600  193.029999\n",
              "2   2019-05-02  194.000000  189.750000  ...  192.529999  13209500  192.529999\n",
              "3   2019-05-03  196.160004  193.710007  ...  195.470001  14575400  195.470001\n",
              "4   2019-05-06  194.279999  190.550003  ...  193.880005  13994900  193.880005\n",
              "5   2019-05-07  192.899994  187.850006  ...  189.770004  16253000  189.770004\n",
              "6   2019-05-08  190.720001  188.550003  ...  189.539993  12505700  189.539993\n",
              "7   2019-05-09  189.770004  186.259995  ...  188.649994  12967000  188.649994\n",
              "8   2019-05-10  190.000000  184.589996  ...  188.339996  12578500  188.339996\n",
              "9   2019-05-13  185.429993  180.839996  ...  181.539993  16833300  181.539993\n",
              "10  2019-05-14  183.490005  178.100006  ...  180.729996  17628100  180.729996\n",
              "11  2019-05-15  187.279999  180.020004  ...  186.270004  16746900  186.270004\n",
              "12  2019-05-16  188.580002  185.050003  ...  186.990005  12953100  186.990005\n",
              "13  2019-05-17  187.580002  184.279999  ...  185.300003  10485400  185.300003\n",
              "14  2019-05-20  184.229996  181.369995  ...  182.720001  10352000  182.720001\n",
              "15  2019-05-21  185.699997  183.889999  ...  184.820007   7502800  184.820007\n",
              "16  2019-05-22  186.740005  183.610001  ...  185.320007   9213800  185.320007\n",
              "17  2019-05-23  183.899994  179.669998  ...  180.869995  12768800  180.869995\n",
              "18  2019-05-24  183.630005  180.830002  ...  181.059998   8807700  181.059998\n",
              "19  2019-05-28  184.710007  181.449997  ...  184.309998  14843300  184.309998\n",
              "20  2019-05-29  184.559998  181.350006  ...  182.190002  12797700  182.190002\n",
              "21  2019-05-30  183.479996  180.889999  ...  183.009995   8581500  183.009995\n",
              "22  2019-05-31  180.539993  177.160004  ...  177.470001  15226500  177.470001\n",
              "\n",
              "[22 rows x 7 columns]"
            ]
          },
          "metadata": {
            "tags": []
          },
          "execution_count": 60
        }
      ]
    },
    {
      "cell_type": "code",
      "metadata": {
        "id": "JTysdZGwNc7Z",
        "colab_type": "code",
        "colab": {
          "base_uri": "https://localhost:8080/",
          "height": 34
        },
        "outputId": "25ec8654-8049-46c0-f220-bcd9c7e3700d"
      },
      "source": [
        "#Get the number of rows and columns\n",
        "df.shape"
      ],
      "execution_count": 61,
      "outputs": [
        {
          "output_type": "execute_result",
          "data": {
            "text/plain": [
              "(22, 7)"
            ]
          },
          "metadata": {
            "tags": []
          },
          "execution_count": 61
        }
      ]
    },
    {
      "cell_type": "code",
      "metadata": {
        "id": "mfc9z1r3Nn-X",
        "colab_type": "code",
        "colab": {
          "base_uri": "https://localhost:8080/",
          "height": 80
        },
        "outputId": "8cb133a5-7d0f-4fcc-aa05-75b138edd8aa"
      },
      "source": [
        "#Get and print the last row of data\n",
        "actual_price = df.tail(1)\n",
        "actual_price"
      ],
      "execution_count": 62,
      "outputs": [
        {
          "output_type": "execute_result",
          "data": {
            "text/html": [
              "<div>\n",
              "<style scoped>\n",
              "    .dataframe tbody tr th:only-of-type {\n",
              "        vertical-align: middle;\n",
              "    }\n",
              "\n",
              "    .dataframe tbody tr th {\n",
              "        vertical-align: top;\n",
              "    }\n",
              "\n",
              "    .dataframe thead th {\n",
              "        text-align: right;\n",
              "    }\n",
              "</style>\n",
              "<table border=\"1\" class=\"dataframe\">\n",
              "  <thead>\n",
              "    <tr style=\"text-align: right;\">\n",
              "      <th></th>\n",
              "      <th>Date</th>\n",
              "      <th>High</th>\n",
              "      <th>Low</th>\n",
              "      <th>Open</th>\n",
              "      <th>Close</th>\n",
              "      <th>Volume</th>\n",
              "      <th>Adj Close</th>\n",
              "    </tr>\n",
              "  </thead>\n",
              "  <tbody>\n",
              "    <tr>\n",
              "      <th>22</th>\n",
              "      <td>2019-05-31</td>\n",
              "      <td>180.539993</td>\n",
              "      <td>177.160004</td>\n",
              "      <td>180.279999</td>\n",
              "      <td>177.470001</td>\n",
              "      <td>15226500</td>\n",
              "      <td>177.470001</td>\n",
              "    </tr>\n",
              "  </tbody>\n",
              "</table>\n",
              "</div>"
            ],
            "text/plain": [
              "          Date        High         Low  ...       Close    Volume   Adj Close\n",
              "22  2019-05-31  180.539993  177.160004  ...  177.470001  15226500  177.470001\n",
              "\n",
              "[1 rows x 7 columns]"
            ]
          },
          "metadata": {
            "tags": []
          },
          "execution_count": 62
        }
      ]
    },
    {
      "cell_type": "code",
      "metadata": {
        "id": "gpLGTweSNzD1",
        "colab_type": "code",
        "colab": {
          "base_uri": "https://localhost:8080/",
          "height": 425
        },
        "outputId": "aad6346f-9743-4543-ceef-96367c4f68f8"
      },
      "source": [
        "#prepare the data for training the SVR models\n",
        "#Get all of the data except for the last row\n",
        "df = df.head(len(df)-1)\n",
        "#Print the new data set\n",
        "print(df)"
      ],
      "execution_count": 63,
      "outputs": [
        {
          "output_type": "stream",
          "text": [
            "          Date        High         Low  ...       Close    Volume   Adj Close\n",
            "1   2019-05-01  196.179993  193.009995  ...  193.029999  15996600  193.029999\n",
            "2   2019-05-02  194.000000  189.750000  ...  192.529999  13209500  192.529999\n",
            "3   2019-05-03  196.160004  193.710007  ...  195.470001  14575400  195.470001\n",
            "4   2019-05-06  194.279999  190.550003  ...  193.880005  13994900  193.880005\n",
            "5   2019-05-07  192.899994  187.850006  ...  189.770004  16253000  189.770004\n",
            "6   2019-05-08  190.720001  188.550003  ...  189.539993  12505700  189.539993\n",
            "7   2019-05-09  189.770004  186.259995  ...  188.649994  12967000  188.649994\n",
            "8   2019-05-10  190.000000  184.589996  ...  188.339996  12578500  188.339996\n",
            "9   2019-05-13  185.429993  180.839996  ...  181.539993  16833300  181.539993\n",
            "10  2019-05-14  183.490005  178.100006  ...  180.729996  17628100  180.729996\n",
            "11  2019-05-15  187.279999  180.020004  ...  186.270004  16746900  186.270004\n",
            "12  2019-05-16  188.580002  185.050003  ...  186.990005  12953100  186.990005\n",
            "13  2019-05-17  187.580002  184.279999  ...  185.300003  10485400  185.300003\n",
            "14  2019-05-20  184.229996  181.369995  ...  182.720001  10352000  182.720001\n",
            "15  2019-05-21  185.699997  183.889999  ...  184.820007   7502800  184.820007\n",
            "16  2019-05-22  186.740005  183.610001  ...  185.320007   9213800  185.320007\n",
            "17  2019-05-23  183.899994  179.669998  ...  180.869995  12768800  180.869995\n",
            "18  2019-05-24  183.630005  180.830002  ...  181.059998   8807700  181.059998\n",
            "19  2019-05-28  184.710007  181.449997  ...  184.309998  14843300  184.309998\n",
            "20  2019-05-29  184.559998  181.350006  ...  182.190002  12797700  182.190002\n",
            "21  2019-05-30  183.479996  180.889999  ...  183.009995   8581500  183.009995\n",
            "\n",
            "[21 rows x 7 columns]\n"
          ],
          "name": "stdout"
        }
      ]
    },
    {
      "cell_type": "code",
      "metadata": {
        "id": "QUhheKAzOFyM",
        "colab_type": "code",
        "colab": {}
      },
      "source": [
        "#Create empty lists ot store the independent and dependent data\n",
        "days = list()\n",
        "adj_close_prices = list()"
      ],
      "execution_count": 64,
      "outputs": []
    },
    {
      "cell_type": "code",
      "metadata": {
        "id": "3RwNRWrpORwq",
        "colab_type": "code",
        "colab": {
          "base_uri": "https://localhost:8080/",
          "height": 391
        },
        "outputId": "7fe88a93-b14a-4dd2-f40a-a3093426f02e"
      },
      "source": [
        "#Get the data and adjusted close prices\n",
        "df_days = df.loc[:, 'Date']\n",
        "df_adj_close = df.loc[:, 'Adj Close']\n",
        "df_days"
      ],
      "execution_count": 65,
      "outputs": [
        {
          "output_type": "execute_result",
          "data": {
            "text/plain": [
              "1     2019-05-01\n",
              "2     2019-05-02\n",
              "3     2019-05-03\n",
              "4     2019-05-06\n",
              "5     2019-05-07\n",
              "6     2019-05-08\n",
              "7     2019-05-09\n",
              "8     2019-05-10\n",
              "9     2019-05-13\n",
              "10    2019-05-14\n",
              "11    2019-05-15\n",
              "12    2019-05-16\n",
              "13    2019-05-17\n",
              "14    2019-05-20\n",
              "15    2019-05-21\n",
              "16    2019-05-22\n",
              "17    2019-05-23\n",
              "18    2019-05-24\n",
              "19    2019-05-28\n",
              "20    2019-05-29\n",
              "21    2019-05-30\n",
              "Name: Date, dtype: object"
            ]
          },
          "metadata": {
            "tags": []
          },
          "execution_count": 65
        }
      ]
    },
    {
      "cell_type": "code",
      "metadata": {
        "id": "vl_TT5xcQiy2",
        "colab_type": "code",
        "colab": {}
      },
      "source": [
        "#Create the independent data set\n",
        "for day in df_days:\n",
        "  days.append([int(day.split('-')[2])])\n",
        "  #days.append([int(day.day)])\n",
        "\n",
        "#Create the dependent data set\n",
        "for adj_close_price in df_adj_close:\n",
        "  adj_close_prices.append(float(adj_close_price))"
      ],
      "execution_count": 66,
      "outputs": []
    },
    {
      "cell_type": "code",
      "metadata": {
        "id": "1GmHxF9uR3NA",
        "colab_type": "code",
        "colab": {
          "base_uri": "https://localhost:8080/",
          "height": 71
        },
        "outputId": "d7218f2f-1092-4b70-ec95-86e0bed1a7cc"
      },
      "source": [
        "#Print the days and the adj close prices\n",
        "print(days)\n",
        "print(adj_close_prices)"
      ],
      "execution_count": 67,
      "outputs": [
        {
          "output_type": "stream",
          "text": [
            "[[1], [2], [3], [6], [7], [8], [9], [10], [13], [14], [15], [16], [17], [20], [21], [22], [23], [24], [28], [29], [30]]\n",
            "[193.02999877929688, 192.52999877929688, 195.47000122070312, 193.8800048828125, 189.7700042724609, 189.5399932861328, 188.6499938964844, 188.33999633789062, 181.5399932861328, 180.72999572753903, 186.2700042724609, 186.9900054931641, 185.3000030517578, 182.72000122070312, 184.82000732421875, 185.32000732421875, 180.8699951171875, 181.05999755859372, 184.30999755859372, 182.19000244140625, 183.00999450683597]\n"
          ],
          "name": "stdout"
        }
      ]
    },
    {
      "cell_type": "code",
      "metadata": {
        "id": "IgPAkQRPWXDb",
        "colab_type": "code",
        "colab": {
          "base_uri": "https://localhost:8080/",
          "height": 51
        },
        "outputId": "664e2148-0c0a-4a86-ccf4-3a7a5cd1ca89"
      },
      "source": [
        "#Create the 3 Support Vector Regression Models\n",
        "\n",
        "#Create and train a SVr model using a linear kernel\n",
        "lin_svr = SVR(kernel='linear', C=1000.0)\n",
        "lin_svr.fit(days, adj_close_prices)\n",
        "\n",
        "#Create and train a SVr model using a polynomial kernel\n",
        "poly_svr = SVR(kernel='poly', C=1000.0, degree = 2)\n",
        "poly_svr.fit(days, adj_close_prices)\n",
        "\n",
        "#Create and train a SVr model using a rbf kernel\n",
        "rbf_svr = SVR(kernel='rbf', C=1000.0, gamma = 0.15)\n",
        "rbf_svr.fit(days, adj_close_prices)"
      ],
      "execution_count": 70,
      "outputs": [
        {
          "output_type": "execute_result",
          "data": {
            "text/plain": [
              "SVR(C=1000.0, cache_size=200, coef0=0.0, degree=3, epsilon=0.1, gamma=0.15,\n",
              "    kernel='rbf', max_iter=-1, shrinking=True, tol=0.001, verbose=False)"
            ]
          },
          "metadata": {
            "tags": []
          },
          "execution_count": 70
        }
      ]
    },
    {
      "cell_type": "code",
      "metadata": {
        "id": "Xejznq4VXCvS",
        "colab_type": "code",
        "colab": {
          "base_uri": "https://localhost:8080/",
          "height": 466
        },
        "outputId": "9f0cfbd8-1f46-4400-bf7e-28c951bf2387"
      },
      "source": [
        "#plot the models on a grapd to see which has the best fit to the original data\n",
        "plt.figure(figsize=(16,8))\n",
        "plt.scatter(days, adj_close_prices, color = 'red', label = 'Data')\n",
        "plt.plot(days, rbf_svr.predict(days), color = 'green', label = 'RBF Model')\n",
        "plt.plot(days, poly_svr.predict(days), color = 'orange', label = 'Poly Model')\n",
        "plt.plot(days, lin_svr.predict(days), color = 'blue', label = 'Linear Model')\n",
        "plt.legend()\n",
        "plt.show()\n",
        "\n"
      ],
      "execution_count": 71,
      "outputs": [
        {
          "output_type": "display_data",
          "data": {
            "image/png": "[encoded data removed]",
            "text/plain": [
              "<Figure size 1152x576 with 1 Axes>"
            ]
          },
          "metadata": {
            "tags": []
          }
        }
      ]
    },
    {
      "cell_type": "code",
      "metadata": {
        "id": "_hvlJeW7Ylpv",
        "colab_type": "code",
        "colab": {
          "base_uri": "https://localhost:8080/",
          "height": 68
        },
        "outputId": "9726f154-a25d-455f-fc77-bf4943510354"
      },
      "source": [
        "#Show the predicted price for the given day\n",
        "day = [[31]]\n",
        "\n",
        "print('The RBF SVR predicted: ', rbf_svr.predict(day))\n",
        "print('The Linear SVR predicted: ', lin_svr.predict(day))\n",
        "print('The Polynomial SVR predicted: ', poly_svr.predict(day))"
      ],
      "execution_count": 72,
      "outputs": [
        {
          "output_type": "stream",
          "text": [
            "The RBF SVR predicted:  [185.04603397]\n",
            "The Linear SVR predicted:  [181.04143808]\n",
            "The Polynomial SVR predicted:  [180.39533557]\n"
          ],
          "name": "stdout"
        }
      ]
    },
    {
      "cell_type": "code",
      "metadata": {
        "id": "if-fwDOLY91l",
        "colab_type": "code",
        "colab": {
          "base_uri": "https://localhost:8080/",
          "height": 34
        },
        "outputId": "cd40e815-8da8-4261-da02-cb0be829b628"
      },
      "source": [
        "#print the actual price of the stock on day 31\n",
        "print('The actual price:', actual_price['Adj Close'][22])"
      ],
      "execution_count": 74,
      "outputs": [
        {
          "output_type": "stream",
          "text": [
            "The actual price: 177.47000122070312\n"
          ],
          "name": "stdout"
        }
      ]
    },
    {
      "cell_type": "markdown",
      "metadata": {
        "id": "znYd10dHZ7ea",
        "colab_type": "text"
      },
      "source": [
        "# New Section"
      ]
    }
  ]
}